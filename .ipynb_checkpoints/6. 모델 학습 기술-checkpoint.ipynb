{
 "cells": [
  {
   "cell_type": "markdown",
   "id": "0396959c",
   "metadata": {},
   "source": [
    "# 6. 모델 학습 기술"
   ]
  },
  {
   "cell_type": "markdown",
   "id": "cb6bdb12",
   "metadata": {},
   "source": [
    "## 6-1. 들어가며\n",
    "### 과정 개요\n",
    "- 모델 학습 기술  \n",
    "    모델 학습에 영향을 미칠 수 있는 요소들은 어떤 것이 있는지 살펴보고 각각에 대해 알아봅니다.\n",
    "\n",
    "- 과소적합과 과대적합  \n",
    "    과소적합과 과대적합의 개념을 배우고 이를 어떻게 방지할 수 있는 방법은 어떤 것이 있는지 살펴봅니다.\n",
    "\n",
    "- IMDB 딥러닝 모델 예제  \n",
    "    앞서 다룬 내용을 어떻게 적용하는지 IMDB 예제를 통해 알아봅니다.\n",
    "\n",
    "### 학습 목표\n",
    "- 딥러닝 모델 학습을 위한 다양한 개념과 기술들을 설명할 수 있습니다.\n",
    "- 모델 학습이 잘 안될 경우 발생하는 과소적합/과대적합에 대해 설명할 수 있습니다.\n",
    "- IMDB 데이터셋을 이용해 긍정/부정 분류를 위한 딥러닝 모델을 만들어봅니다."
   ]
  },
  {
   "cell_type": "markdown",
   "id": "1e49a838",
   "metadata": {},
   "source": [
    "## 6-2. 모델 학습 기술\n",
    "Q. 모든 데이터를 한 번에 넣고 학습시키는 전체 배치(Full Batch)방식이 있는데 왜 분할하여 넣는 미니 배치(Mini Batch) 방식을 사용하나요?  \n",
    "A. 딥러닝은 많은 양의 데이터를 필요로 하고 모든 데이터를 한 번에 불러와서(load) 학습 시키는 것은 많은 리소스가 낭비되기 때문입니다.\n",
    "\n",
    "Q. 대표적인 데이터 스케일링 방법인 표준화(Standardization)와 정규화(Normalization)은 어떤 차이가 있나요?  \n",
    "A. 표준화는 평균이 0이지만 데이터 크기에 대한 제한이 없으며 정규화는 최대, 최소값이 각각 1과 0으로 정해져있습니다.\n",
    "\n",
    "Q. 손실 함수의 최저값에 도달하기 위해선 학습률이 작을 수록 일반적으로 에폭의 수는 어떻게 될까요?  \n",
    "A. 많아집니다. 학습률이 작은 경우 최저값에 도달하기까지 업데이트 횟수가 더 많이 필요하다는 의미이기 때문입니다.\n",
    "\n",
    "Q. 활성화함수에는 시그모이드(Sigmiod)계열과 렐루(ReLU)) 두가지 계열로 나뉘는데 두 계열간 어떤 차이가 있나요?  \n",
    "A. 시그모이드 계열은 결과값이 [0,1], 혹은 [-1,1] 사이의 값이 나오며 렐루 계열은 예외를 제외하면 0을 중심으로 양수는 양수 그대로를, 음수는 0이나 0에 가까운 수를 내놓습니다.\n",
    "\n",
    "Q. 적절한 가중치 초기값을 정해주는 것은 어떤 효과를 가져올 수 있나요?  \n",
    "A. 표현할 수 있는 신경망의 수가 많아지고 더 많은 가중치에 역전파가 전달 가능하며 비교적 많은 문제를 표현할 수 있게 됩니다.\n",
    "\n",
    "Q. 옵티마이저의 역할과 목적은 무엇인가요?  \n",
    "A. 손실함수를 감소시키기 위해(실제와 예측간의 차이를 감소시키기 위해) 가중치를 업데이트 하는 방식을 결정합니다."
   ]
  },
  {
   "cell_type": "markdown",
   "id": "3a5bbfa8",
   "metadata": {},
   "source": [
    "## 6-3. 과소적합과 과대적합\n",
    "Q. 과소적합과 과대적합을 방지하기 위해선 어떤 방법들을 사용할 수 있나요?  \n",
    "A. 에폭수를 적절히 조절하거나 적절한 크기의 모델을 선택, 혹은 충분한 데이터를 수집하는 방법 등을 사용할 수 있습니다."
   ]
  },
  {
   "cell_type": "markdown",
   "id": "fca957cf",
   "metadata": {},
   "source": [
    "## 6-4. IMDB 딥러닝 모델 예제\n",
    "IMDB 데이터셋은 영화 사이트 IMDB의 리뷰 데이터를 모아놓은 것으로 텍스트 분류, 감성 분류를 위해 자주 사용하는 데이터입니다. 데이터셋은 리뷰 텍스트와 레이블로 구성되어 있고, 레이블은 리뷰가 긍정인 경우 1을 부정인 경우 0으로 표시합니다.  \n",
    "### 데이터 로드 및 전처리\n",
    "케라스에서는 IMDB 영화 리뷰 데이터를 imdb.load_data() 함수를 통해 다운로드가 가능합니다. 예제로 사용하는 것이니 num_words는 10000개로만 제한하여 데이터를 로드합니다. 즉, 단어의 인덱스는 0부터 9999까지만 구성됩니다.\n",
    "\n",
    "train_data의 0번째를 출력해보면 단어들의 인덱스가 출력되는 것을 알 수 있습니다. 그리고 train_label의 0번째를 출력하면 긍정을 의미하는 1이 출력되는 것을 알 수 있습니다."
   ]
  },
  {
   "cell_type": "code",
   "execution_count": 1,
   "id": "8c3ad623",
   "metadata": {},
   "outputs": [
    {
     "name": "stdout",
     "output_type": "stream",
     "text": [
      "Downloading data from https://storage.googleapis.com/tensorflow/tf-keras-datasets/imdb.npz\n",
      "17465344/17464789 [==============================] - 0s 0us/step\n",
      "17473536/17464789 [==============================] - 0s 0us/step\n",
      "[1, 14, 22, 16, 43, 530, 973, 1622, 1385, 65, 458, 4468, 66, 3941, 4, 173, 36, 256, 5, 25, 100, 43, 838, 112, 50, 670, 2, 9, 35, 480, 284, 5, 150, 4, 172, 112, 167, 2, 336, 385, 39, 4, 172, 4536, 1111, 17, 546, 38, 13, 447, 4, 192, 50, 16, 6, 147, 2025, 19, 14, 22, 4, 1920, 4613, 469, 4, 22, 71, 87, 12, 16, 43, 530, 38, 76, 15, 13, 1247, 4, 22, 17, 515, 17, 12, 16, 626, 18, 2, 5, 62, 386, 12, 8, 316, 8, 106, 5, 4, 2223, 5244, 16, 480, 66, 3785, 33, 4, 130, 12, 16, 38, 619, 5, 25, 124, 51, 36, 135, 48, 25, 1415, 33, 6, 22, 12, 215, 28, 77, 52, 5, 14, 407, 16, 82, 2, 8, 4, 107, 117, 5952, 15, 256, 4, 2, 7, 3766, 5, 723, 36, 71, 43, 530, 476, 26, 400, 317, 46, 7, 4, 2, 1029, 13, 104, 88, 4, 381, 15, 297, 98, 32, 2071, 56, 26, 141, 6, 194, 7486, 18, 4, 226, 22, 21, 134, 476, 26, 480, 5, 144, 30, 5535, 18, 51, 36, 28, 224, 92, 25, 104, 4, 226, 65, 16, 38, 1334, 88, 12, 16, 283, 5, 16, 4472, 113, 103, 32, 15, 16, 5345, 19, 178, 32]\n",
      "1\n"
     ]
    }
   ],
   "source": [
    "from keras.datasets import imdb\n",
    "import numpy as np\n",
    "\n",
    "(train_data, train_labels), (test_data, test_labels) = imdb.load_data(num_words=10000)\n",
    "\n",
    "print(train_data[0])\n",
    "print(train_labels[0])"
   ]
  },
  {
   "cell_type": "markdown",
   "id": "d6bb8204",
   "metadata": {},
   "source": [
    "IMDB의 데이터셋은 인덱스로만 구성되어 있기 때문에 실제 단어들로 변환하기 위해서는 단어 인덱스 딕셔너리를 이용해야하며, imdb.get_word_index() 함수를 통해 얻을 수 있습니다.  \n",
    "아래 코드블럭의 주석을 풀면 word_index 딕셔너리를 확인하실 수 있습니다.\n",
    "(스크롤의 압박이 느껴질 수 있어요.😅)"
   ]
  },
  {
   "cell_type": "code",
   "execution_count": 2,
   "id": "3e0ae54b",
   "metadata": {},
   "outputs": [],
   "source": [
    "word_index = imdb.get_word_index()\n",
    "# word_index"
   ]
  },
  {
   "cell_type": "markdown",
   "id": "d595de0e",
   "metadata": {},
   "source": [
    "단어 인덱스 딕셔너리를 인덱스 단어 딕셔너리 형태로 역으로 변환시킵니다.\n",
    "아래 코드블럭의 주석을 풀면 index_word 딕셔너리를 확인하실 수 있습니다.\n",
    "(스크롤의 압박이 느껴질 수 있어요.😅)"
   ]
  },
  {
   "cell_type": "code",
   "execution_count": 3,
   "id": "6e0767e8",
   "metadata": {},
   "outputs": [],
   "source": [
    "index_word = dict([(value, key) for (key, value) in word_index.items()])\n",
    "# index_word"
   ]
  },
  {
   "cell_type": "markdown",
   "id": "08bfc7b8",
   "metadata": {},
   "source": [
    "imdb.get_word_index() 함수를 통해 얻은 데이터의 index는 단어 출현 빈도 기준으로 내림차수 정렬되어있습니다. 따라서 아래 코드블럭의 index_word 의 키 값을 바꿔가며 해당 출현 빈도 순에 해당하는 단어를 살펴볼 수 있어요."
   ]
  },
  {
   "cell_type": "code",
   "execution_count": 4,
   "id": "7effff0f",
   "metadata": {},
   "outputs": [
    {
     "data": {
      "text/plain": [
       "'the'"
      ]
     },
     "execution_count": 4,
     "metadata": {},
     "output_type": "execute_result"
    }
   ],
   "source": [
    "# 1 순위의 출현 빈도를 기록한 단어를 출력합니다.\n",
    "# 키 값의 숫자를 바꿔가며 다른 순위의 단어들도 확인해볼 수 있어요!\n",
    "index_word[1]"
   ]
  },
  {
   "cell_type": "markdown",
   "id": "98c39fba",
   "metadata": {},
   "source": [
    "index_word의 키를 바꿔가며 출현 순위별 단어를 확인해보았다면 아래 코드를 작성해보세요.\n",
    "\n",
    "Q. 25번째 단어를 키로 삼아 word_index에 어떤 값(value)가 담겨있는지 확인해 봅시다."
   ]
  },
  {
   "cell_type": "code",
   "execution_count": 5,
   "id": "c6deda8c",
   "metadata": {},
   "outputs": [
    {
     "name": "stdout",
     "output_type": "stream",
     "text": [
      "have\n"
     ]
    }
   ],
   "source": [
    "word_25th = index_word[25]\n",
    "print(word_25th)"
   ]
  },
  {
   "cell_type": "markdown",
   "id": "e407bccc",
   "metadata": {},
   "source": [
    "train_data[0]의 각 인덱스에 매핑되는 단어들로 연결하여 하나의 리뷰를 만들어 줍니다."
   ]
  },
  {
   "cell_type": "code",
   "execution_count": 6,
   "id": "08901845",
   "metadata": {},
   "outputs": [
    {
     "data": {
      "text/plain": [
       "'1 14 22 16 43 530 973 1622 1385 65 458 4468 66 3941 4 173 36 256 5 25 100 43 838 112 50 670 2 9 35 480 284 5 150 4 172 112 167 2 336 385 39 4 172 4536 1111 17 546 38 13 447 4 192 50 16 6 147 2025 19 14 22 4 1920 4613 469 4 22 71 87 12 16 43 530 38 76 15 13 1247 4 22 17 515 17 12 16 626 18 2 5 62 386 12 8 316 8 106 5 4 2223 5244 16 480 66 3785 33 4 130 12 16 38 619 5 25 124 51 36 135 48 25 1415 33 6 22 12 215 28 77 52 5 14 407 16 82 2 8 4 107 117 5952 15 256 4 2 7 3766 5 723 36 71 43 530 476 26 400 317 46 7 4 2 1029 13 104 88 4 381 15 297 98 32 2071 56 26 141 6 194 7486 18 4 226 22 21 134 476 26 480 5 144 30 5535 18 51 36 28 224 92 25 104 4 226 65 16 38 1334 88 12 16 283 5 16 4472 113 103 32 15 16 5345 19 178 32'"
      ]
     },
     "execution_count": 6,
     "metadata": {},
     "output_type": "execute_result"
    }
   ],
   "source": [
    "review = ' '.join([str(i) for i in train_data[0]])\n",
    "review"
   ]
  },
  {
   "cell_type": "code",
   "execution_count": 7,
   "id": "e7a35a3e",
   "metadata": {},
   "outputs": [
    {
     "data": {
      "text/plain": [
       "\"? this film was just brilliant casting location scenery story direction everyone's really suited the part they played and you could just imagine being there robert ? is an amazing actor and now the same being director ? father came from the same scottish island as myself so i loved the fact there was a real connection with this film the witty remarks throughout the film were great it was just brilliant so much that i bought the film as soon as it was released for ? and would recommend it to everyone to watch and the fly fishing was amazing really cried at the end it was so sad and you know what they say if you cry at a film it must have been good and this definitely was also ? to the two little boy's that played the ? of norman and paul they were just brilliant children are often left out of the ? list i think because the stars that play them all grown up are such a big profile for the whole film but these children are amazing and should be praised for what they have done don't you think the whole story was so lovely because it was true and was someone's life after all that was shared with us all\""
      ]
     },
     "execution_count": 7,
     "metadata": {},
     "output_type": "execute_result"
    }
   ],
   "source": [
    "review = ' '.join([index_word.get(i-3, '?') for i in train_data[0]])\n",
    "review"
   ]
  },
  {
   "cell_type": "markdown",
   "id": "76e4f517",
   "metadata": {},
   "source": [
    "텍스트 데이터를 딥러닝 모델의 학습에 사용하기 위해서는 원-핫 인코딩(one-hot encoding)을 이용해 0과 1의 벡터로 변환하여 Dense 레이어를 사용하는 방법이 있고, 그 밖에도 고정 길이를 가지도록 패딩(padding)을 추가하고 임베딩(embedding) 레이어를 사용하는 방법이 있습니다. 이 예제에서는 10000 차원을 가지는 원-핫 인코딩으로 IMDB 데이터를 처리하도록 합니다."
   ]
  },
  {
   "cell_type": "code",
   "execution_count": 8,
   "id": "4097df6a",
   "metadata": {},
   "outputs": [
    {
     "name": "stdout",
     "output_type": "stream",
     "text": [
      "[0. 1. 1. ... 0. 0. 0.]\n"
     ]
    }
   ],
   "source": [
    "def one_hot_encoding(data, dim=10000): # imdb 데이터의 num_words를 10000으로 설정해서 dim도 10000으로 맞춰줍니다.\n",
    "  results = np.zeros((len(data), dim))\n",
    "  for i, d in enumerate(data):\n",
    "    results[i, d] = 1.\n",
    "  return results\n",
    "\n",
    "x_train = one_hot_encoding(train_data)\n",
    "x_test = one_hot_encoding(test_data)\n",
    "\n",
    "print(x_train[0])"
   ]
  },
  {
   "cell_type": "markdown",
   "id": "1b1cc78e",
   "metadata": {},
   "source": [
    "IMDB의 레이블은 1은 긍정, 0은 부정으로 정의되어 있는데, 정수형 값을 실수형 값으로 변환을 시켜줍니다."
   ]
  },
  {
   "cell_type": "code",
   "execution_count": 9,
   "id": "715a0098",
   "metadata": {},
   "outputs": [
    {
     "name": "stdout",
     "output_type": "stream",
     "text": [
      "1\n",
      "0\n"
     ]
    }
   ],
   "source": [
    "print(train_labels[0])\n",
    "print(test_labels[0])"
   ]
  },
  {
   "cell_type": "code",
   "execution_count": 13,
   "id": "8197b75f",
   "metadata": {},
   "outputs": [
    {
     "name": "stdout",
     "output_type": "stream",
     "text": [
      "1.0\n",
      "0.0\n"
     ]
    }
   ],
   "source": [
    "y_train = np.asarray(train_labels).astype('float32')\n",
    "y_test = np.asarray(test_labels).astype('float32')\n",
    "\n",
    "print(y_train[0])\n",
    "print(y_test[0])"
   ]
  },
  {
   "cell_type": "markdown",
   "id": "09d8537c",
   "metadata": {},
   "source": [
    "### 모델 구성\n",
    "이제 실제 IMDB 데이터셋을 학습하고 긍정/부정을 분류할 딥러닝 모델을 정의합니다. Sequential() 함수를 이용해서 순차적으로 레이어를 추가합니다.\n",
    "\n",
    "첫번째 레이어는 Dense로 유닛수 16개를 가지고, input_shape을 (10000, )으로 정의하여 10000 차원의 데이터를 입력으로 받을 수 있게 합니다. 그리고 활성화 함수인 activation은 relu로 사용하고, 레이어의 이름인 name을 input으로 지정합니다.\n",
    "\n",
    "두번째 레이어도 마찬가지로 Dense로 유닛수 16개를 가지고, relu 활성화 함수를 사용하고 이름은 hidden으로 지정합니다.\n",
    "\n",
    "세번째 레이어도 Dense 레이어를 사용하지만, 긍정/부정 결과만 받도록 유닛수는 1개만 가지고, 활성화 함수는 sigmoid를 사용하고, 이름은 output으로 지정합니다."
   ]
  },
  {
   "cell_type": "code",
   "execution_count": 10,
   "id": "c193210c",
   "metadata": {},
   "outputs": [],
   "source": [
    "import tensorflow as tf\n",
    "from tensorflow.keras import models, layers\n",
    "\n",
    "model = models.Sequential()\n",
    "model.add(layers.Dense(16, activation='relu', input_shape=(10000, ), name='input'))\n",
    "model.add(layers.Dense(16, activation='relu', name='hidden'))\n",
    "model.add(layers.Dense(1, activation='sigmoid', name='output'))"
   ]
  },
  {
   "cell_type": "markdown",
   "id": "7fe8887c",
   "metadata": {},
   "source": [
    "### 모델 컴파일 및 학습\n",
    "이제 정의한 모델을 컴파일을 통해서 옵티마이저인 optimizer는 rmsprop를 사용하고, 손실 함수인 loss는 긍정/부정만 분류하므로 binary_crossentropy를 지정합니다. 그리고 지표인 metrics는 accuracy를 사용합니다. 이제 summary() 함수를 사용해 모델의 구조를 시각화합니다."
   ]
  },
  {
   "cell_type": "code",
   "execution_count": 11,
   "id": "5bcdbc27",
   "metadata": {},
   "outputs": [
    {
     "name": "stdout",
     "output_type": "stream",
     "text": [
      "Model: \"sequential\"\n",
      "_________________________________________________________________\n",
      "Layer (type)                 Output Shape              Param #   \n",
      "=================================================================\n",
      "input (Dense)                (None, 16)                160016    \n",
      "_________________________________________________________________\n",
      "hidden (Dense)               (None, 16)                272       \n",
      "_________________________________________________________________\n",
      "output (Dense)               (None, 1)                 17        \n",
      "=================================================================\n",
      "Total params: 160,305\n",
      "Trainable params: 160,305\n",
      "Non-trainable params: 0\n",
      "_________________________________________________________________\n"
     ]
    }
   ],
   "source": [
    "model.compile(optimizer='rmsprop',\n",
    "              loss='binary_crossentropy',\n",
    "              metrics=['accuracy'])\n",
    "model.summary()"
   ]
  },
  {
   "cell_type": "markdown",
   "id": "b30e67a5",
   "metadata": {},
   "source": [
    "이제 딥러닝 모델을 학습하기 위해 fit() 함수를 실행시킵니다. 학습에 사용되는 데이터로 x_train과 y_train을 지정하고, 에폭 수인 epochs는 20으로 지정하고, 배치 사이즈인 batch_size는 512로 지정합니다. 그리고 검증을 위해서 테스트 데이터인 x_test와 y_test를 지정해줍니다."
   ]
  },
  {
   "cell_type": "code",
   "execution_count": 14,
   "id": "f6e1bec4",
   "metadata": {},
   "outputs": [
    {
     "name": "stdout",
     "output_type": "stream",
     "text": [
      "Epoch 1/20\n",
      "49/49 [==============================] - 18s 75ms/step - loss: 0.4514 - accuracy: 0.8311 - val_loss: 0.3445 - val_accuracy: 0.8771\n",
      "Epoch 2/20\n",
      "49/49 [==============================] - 1s 17ms/step - loss: 0.2614 - accuracy: 0.9090 - val_loss: 0.2840 - val_accuracy: 0.8894\n",
      "Epoch 3/20\n",
      "49/49 [==============================] - 1s 18ms/step - loss: 0.2027 - accuracy: 0.9275 - val_loss: 0.3031 - val_accuracy: 0.8766\n",
      "Epoch 4/20\n",
      "49/49 [==============================] - 1s 19ms/step - loss: 0.1688 - accuracy: 0.9407 - val_loss: 0.2908 - val_accuracy: 0.8847\n",
      "Epoch 5/20\n",
      "49/49 [==============================] - 1s 17ms/step - loss: 0.1448 - accuracy: 0.9496 - val_loss: 0.3112 - val_accuracy: 0.8785\n",
      "Epoch 6/20\n",
      "49/49 [==============================] - 1s 17ms/step - loss: 0.1265 - accuracy: 0.9559 - val_loss: 0.3546 - val_accuracy: 0.8698\n",
      "Epoch 7/20\n",
      "49/49 [==============================] - 1s 18ms/step - loss: 0.1105 - accuracy: 0.9622 - val_loss: 0.4034 - val_accuracy: 0.8604\n",
      "Epoch 8/20\n",
      "49/49 [==============================] - 1s 17ms/step - loss: 0.0955 - accuracy: 0.9688 - val_loss: 0.3786 - val_accuracy: 0.8718\n",
      "Epoch 9/20\n",
      "49/49 [==============================] - 1s 18ms/step - loss: 0.0865 - accuracy: 0.9719 - val_loss: 0.4058 - val_accuracy: 0.8689\n",
      "Epoch 10/20\n",
      "49/49 [==============================] - 1s 17ms/step - loss: 0.0737 - accuracy: 0.9767 - val_loss: 0.4291 - val_accuracy: 0.8666\n",
      "Epoch 11/20\n",
      "49/49 [==============================] - 1s 18ms/step - loss: 0.0647 - accuracy: 0.9812 - val_loss: 0.4683 - val_accuracy: 0.8622\n",
      "Epoch 12/20\n",
      "49/49 [==============================] - 1s 17ms/step - loss: 0.0553 - accuracy: 0.9834 - val_loss: 0.5004 - val_accuracy: 0.8588\n",
      "Epoch 13/20\n",
      "49/49 [==============================] - 1s 17ms/step - loss: 0.0468 - accuracy: 0.9874 - val_loss: 0.5302 - val_accuracy: 0.8595\n",
      "Epoch 14/20\n",
      "49/49 [==============================] - 1s 17ms/step - loss: 0.0404 - accuracy: 0.9885 - val_loss: 0.5663 - val_accuracy: 0.8571\n",
      "Epoch 15/20\n",
      "49/49 [==============================] - 1s 17ms/step - loss: 0.0331 - accuracy: 0.9914 - val_loss: 0.5988 - val_accuracy: 0.8567\n",
      "Epoch 16/20\n",
      "49/49 [==============================] - 1s 18ms/step - loss: 0.0275 - accuracy: 0.9931 - val_loss: 0.6571 - val_accuracy: 0.8518\n",
      "Epoch 17/20\n",
      "49/49 [==============================] - 1s 17ms/step - loss: 0.0238 - accuracy: 0.9942 - val_loss: 0.7040 - val_accuracy: 0.8499\n",
      "Epoch 18/20\n",
      "49/49 [==============================] - 1s 17ms/step - loss: 0.0195 - accuracy: 0.9950 - val_loss: 0.7346 - val_accuracy: 0.8514\n",
      "Epoch 19/20\n",
      "49/49 [==============================] - 1s 17ms/step - loss: 0.0139 - accuracy: 0.9973 - val_loss: 0.7668 - val_accuracy: 0.8521\n",
      "Epoch 20/20\n",
      "49/49 [==============================] - 1s 17ms/step - loss: 0.0124 - accuracy: 0.9968 - val_loss: 0.8249 - val_accuracy: 0.8493\n"
     ]
    }
   ],
   "source": [
    "history = model.fit(x_train, y_train,\n",
    "                    epochs=20,\n",
    "                    batch_size=512,\n",
    "                    validation_data=(x_test, y_test))"
   ]
  },
  {
   "cell_type": "markdown",
   "id": "2ed3cb59",
   "metadata": {},
   "source": [
    "학습하며 저장된 모델의 지표 결과인 history에서 loss, val_loss, accuracy, val_accuracy를 차트로 시각화합니다."
   ]
  },
  {
   "cell_type": "code",
   "execution_count": 15,
   "id": "2ddd3298",
   "metadata": {},
   "outputs": [
    {
     "data": {
      "image/png": "[encoded data removed]",
      "text/plain": [
       "<Figure size 864x360 with 2 Axes>"
      ]
     },
     "metadata": {
      "needs_background": "light"
     },
     "output_type": "display_data"
    }
   ],
   "source": [
    "import matplotlib.pyplot as plt\n",
    "\n",
    "history_dict = history.history\n",
    "\n",
    "loss = history_dict['loss']\n",
    "val_loss = history_dict['val_loss']\n",
    "epochs = range(1, len(loss) + 1)\n",
    "\n",
    "fig = plt.figure(figsize=(12, 5))\n",
    "\n",
    "ax1 = fig.add_subplot(1, 2, 1)\n",
    "ax1.plot(epochs, loss, color='blue', label='train_loss')\n",
    "ax1.plot(epochs, val_loss, color='red', label='val_loss')\n",
    "ax1.set_title('Train and Validation Loss')\n",
    "ax1.set_xlabel('Epochs')\n",
    "ax1.set_ylabel('Loss')\n",
    "ax1.grid()\n",
    "ax1.legend()\n",
    "\n",
    "accuracy = history_dict['accuracy']\n",
    "val_accuracy = history_dict['val_accuracy']\n",
    "\n",
    "ax2 = fig.add_subplot(1, 2, 2)\n",
    "ax2.plot(epochs, accuracy, color='blue', label='train_accuracy')\n",
    "ax2.plot(epochs, val_accuracy, color='red', label='val_accuracy')\n",
    "ax2.set_title('Train and Validation Accuracy')\n",
    "ax2.set_xlabel('Epochs')\n",
    "ax2.set_ylabel('Accuracy')\n",
    "ax2.grid()\n",
    "ax2.legend()\n",
    "\n",
    "plt.show()"
   ]
  },
  {
   "cell_type": "markdown",
   "id": "c9103000",
   "metadata": {},
   "source": [
    "딥러닝 모델의 결과를 살펴보면 val_loss가 점점 증가하는 것을 알 수 있고, val_accuracy는 점점 감소하는 것을 알 수 있습니다. 즉, 과대적합되어 학습용 데이터셋에 대해서만 모델이 적합하게 된 것을 알 수 있습니다."
   ]
  },
  {
   "cell_type": "markdown",
   "id": "ecc2f4e6",
   "metadata": {},
   "source": [
    "## 6-5. 마무리하며"
   ]
  },
  {
   "cell_type": "markdown",
   "id": "ba836408",
   "metadata": {},
   "source": [
    "### 이번 시간 정리\n",
    "- 딥러닝 모델을 학습하기 위한 다양한 기술들에 대해서 이해했습니다.\n",
    "- 딥러닝 모델이 잘 학습되지 않을 경우 발생하는 과소적합과 과대적합에 대해서 이해했습니다.\n",
    "- IMDB 데이터셋을 이용한 딥러닝 분류 모델 예제를 살펴보았습니다.  \n",
    "Q. IMDB 데이터셋을 이용한 딥러닝 분류 모델의 결과는 과대적합이었습니다. 혹시 이를 방지하기 위해 오늘 배운 내용 중 적용해볼 수 있는 것이 있을까요?  \n",
    "A. 에폭수를 줄이거나 학습률, 혹은 모델 크기를 줄여볼 수 있습니다. 혹은 비슷한 데이터를 추가적으로 수집할 수도 있습니다."
   ]
  },
  {
   "cell_type": "code",
   "execution_count": null,
   "id": "01524282",
   "metadata": {},
   "outputs": [],
   "source": []
  }
 ],
 "metadata": {
  "kernelspec": {
   "display_name": "Python 3 (ipykernel)",
   "language": "python",
   "name": "python3"
  },
  "language_info": {
   "codemirror_mode": {
    "name": "ipython",
    "version": 3
   },
   "file_extension": ".py",
   "mimetype": "text/x-python",
   "name": "python",
   "nbconvert_exporter": "python",
   "pygments_lexer": "ipython3",
   "version": "3.9.7"
  }
 },
 "nbformat": 4,
 "nbformat_minor": 5
}
