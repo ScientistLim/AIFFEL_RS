{
 "cells": [
  {
   "cell_type": "markdown",
   "id": "d272dc55",
   "metadata": {},
   "source": [
    "# 7. 모델 크기 조절과 규제"
   ]
  },
  {
   "cell_type": "markdown",
   "id": "2424abbd",
   "metadata": {},
   "source": [
    "## 7-1. 들어가며\n",
    "### 과정 개요\n",
    "- 모델 크기 조절  \n",
    "    모델의 크기는 어떤 것으로 결정되는지 살펴보고 크기에 따라 어떤 차이가 있는지 알아봅니다.\n",
    "\n",
    "- 규제화(Regularization)  \n",
    "    모델 학습에 규제를 가하는 것의 의미를 알아보고 실습을 통해 어떤 효과가 있는지 확인해봅니다.\n",
    "\n",
    "- 드롭아웃(Dropout)  \n",
    "    s 드롭아웃은 어떤 작업을 하는 것이며 그 효과에 대해 실습을 통해 알아봅니다.\n",
    "\n",
    "### 학습 목표\n",
    "- 딥러닝 모델의 크기를 조절해봅니다.\n",
    "- 효과적인 딥러닝 모델 학습을 위한 규제를 해봅니다."
   ]
  },
  {
   "cell_type": "markdown",
   "id": "9446681c",
   "metadata": {},
   "source": [
    "## 7-2. 모델 크기 조절\n",
    "이전에 사용했던 IMDB 딥러닝 모델은 과대적합이 발생하는 문제가 있었습니다. 이 문제를 해결하려면 모델의 크기를 조절해야 합니다.\n",
    "\n",
    "모델 크기를 조절하는 방법은 크게 레이어의 유닛수와 레이어의 수를 조절하는 것이 있습니다.\n",
    "\n",
    "우선 레이어의 유닛수를 증가 또는 감소시켜 모델 전체 파라미터 수를 증가하거나 감소시킬 수 있습니다. 다른 방법으로는 레이어의 수를 증가시켜 더 깊은 신경망을 만들어 모델의 크기를 증가시킬 수 있죠.\n",
    "\n",
    "데이터의 규모가 클수록 크고 깊은 모델에서 더 좋은 성능을 보여주지만 데이터에 비해 모델이 너무 크면 과대적합이 발생할 수 있습니다. 따라서 데이터의 규모에 따라 모델의 수를 적절하게 조절해야 합니다.\n",
    "\n",
    "모델의 크기 조절 방법에 따라 모델 성능의 결과가 어떻게 차이가 나는지 비교해 보도록 하겠습니다.\n",
    "\n",
    "### 데이터 로드 및 전처리\n",
    "먼저 모델의 학습에 사용하기 위해 원-핫 인코딩(one-hot encoding)을 위한 함수를 정의합니다. 그리고 imdb.load_data()를 통해 IMDB 데이터를 다운로드한 뒤, 10000 차원의 학습 데이터로 원-핫 인코딩을 수행합니다."
   ]
  },
  {
   "cell_type": "code",
   "execution_count": 2,
   "id": "731d8940",
   "metadata": {},
   "outputs": [],
   "source": [
    "from keras.datasets import imdb\n",
    "import numpy as np\n",
    "\n",
    "def one_hot_encoding(data, dim=10000): # 아래 imdb.load_data의 num_words를 10000으로 설정할 예정이기 때문에 dim도 10000으로 맞춰줍니다.\n",
    "  results = np.zeros((len(data), dim))\n",
    "  for i, d in enumerate(data):\n",
    "    results[i, d] = 1.\n",
    "  return results\n",
    "\n",
    "(train_data, train_labels), (test_data, test_labels) = imdb.load_data(num_words=10000)\n",
    "\n",
    "x_train = one_hot_encoding(train_data)\n",
    "x_test = one_hot_encoding(test_data)\n",
    "\n",
    "y_train = np.asarray(train_labels).astype('float32')\n",
    "y_test = np.asarray(test_labels).astype('float32')"
   ]
  },
  {
   "cell_type": "markdown",
   "id": "bfbeda7d",
   "metadata": {},
   "source": [
    "### 모델 구성 및 컴파일\n",
    "IMDB 데이터셋에 대해 분류하는 모델로서 기존에 정의했던 3개의 Dense 레이어를 가지는 딥러닝 모델을 정의합니다. 그리고 rmsprop 옵티마이저, binary_crossentropy 손실 함수, accuracy 지표를 사용하도록 컴파일 합니다.\n",
    "\n",
    "summary()를 통해 확인해보면, 모델의 전체 파라미터의 수가 1,296,769개인 것을 알 수 있습니다."
   ]
  },
  {
   "cell_type": "code",
   "execution_count": 3,
   "id": "30bfe67c",
   "metadata": {},
   "outputs": [
    {
     "name": "stdout",
     "output_type": "stream",
     "text": [
      "Model: \"sequential\"\n",
      "_________________________________________________________________\n",
      "Layer (type)                 Output Shape              Param #   \n",
      "=================================================================\n",
      "input (Dense)                (None, 128)               1280128   \n",
      "_________________________________________________________________\n",
      "hidden (Dense)               (None, 128)               16512     \n",
      "_________________________________________________________________\n",
      "output (Dense)               (None, 1)                 129       \n",
      "=================================================================\n",
      "Total params: 1,296,769\n",
      "Trainable params: 1,296,769\n",
      "Non-trainable params: 0\n",
      "_________________________________________________________________\n"
     ]
    }
   ],
   "source": [
    "import tensorflow as tf\n",
    "from tensorflow.keras import models, layers\n",
    "\n",
    "model = models.Sequential()\n",
    "model.add(layers.Dense(128, activation='relu', input_shape=(10000, ), name='input'))\n",
    "model.add(layers.Dense(128, activation='relu', name='hidden'))\n",
    "model.add(layers.Dense(1, activation='sigmoid', name='output'))\n",
    "\n",
    "model.compile(optimizer='rmsprop',\n",
    "              loss='binary_crossentropy',\n",
    "              metrics=['accuracy'])\n",
    "model.summary()"
   ]
  },
  {
   "cell_type": "markdown",
   "id": "2b1e1caf",
   "metadata": {},
   "source": [
    "모델 학습\n",
    "딥러닝 모델을 fit()을 이용해 학습시킵니다."
   ]
  },
  {
   "cell_type": "code",
   "execution_count": 4,
   "id": "f6b1e95d",
   "metadata": {},
   "outputs": [
    {
     "name": "stdout",
     "output_type": "stream",
     "text": [
      "Epoch 1/30\n",
      "49/49 [==============================] - 5s 77ms/step - loss: 0.4217 - accuracy: 0.8120 - val_loss: 0.3366 - val_accuracy: 0.8606\n",
      "Epoch 2/30\n",
      "49/49 [==============================] - 1s 21ms/step - loss: 0.2349 - accuracy: 0.9089 - val_loss: 0.3048 - val_accuracy: 0.8750\n",
      "Epoch 3/30\n",
      "49/49 [==============================] - 1s 21ms/step - loss: 0.1651 - accuracy: 0.9369 - val_loss: 0.2978 - val_accuracy: 0.8837\n",
      "Epoch 4/30\n",
      "49/49 [==============================] - 1s 18ms/step - loss: 0.1265 - accuracy: 0.9535 - val_loss: 0.3110 - val_accuracy: 0.8817\n",
      "Epoch 5/30\n",
      "49/49 [==============================] - 1s 18ms/step - loss: 0.0766 - accuracy: 0.9732 - val_loss: 0.3754 - val_accuracy: 0.8794\n",
      "Epoch 6/30\n",
      "49/49 [==============================] - 1s 19ms/step - loss: 0.0387 - accuracy: 0.9877 - val_loss: 0.4556 - val_accuracy: 0.8752\n",
      "Epoch 7/30\n",
      "49/49 [==============================] - 1s 21ms/step - loss: 0.0385 - accuracy: 0.9904 - val_loss: 0.5639 - val_accuracy: 0.8740\n",
      "Epoch 8/30\n",
      "49/49 [==============================] - 1s 19ms/step - loss: 0.0368 - accuracy: 0.9916 - val_loss: 0.5457 - val_accuracy: 0.8732\n",
      "Epoch 9/30\n",
      "49/49 [==============================] - 1s 18ms/step - loss: 0.0027 - accuracy: 0.9998 - val_loss: 0.7385 - val_accuracy: 0.8711\n",
      "Epoch 10/30\n",
      "49/49 [==============================] - 1s 18ms/step - loss: 0.0437 - accuracy: 0.9914 - val_loss: 0.7018 - val_accuracy: 0.8706\n",
      "Epoch 11/30\n",
      "49/49 [==============================] - 1s 18ms/step - loss: 7.8310e-04 - accuracy: 1.0000 - val_loss: 0.8512 - val_accuracy: 0.8710\n",
      "Epoch 12/30\n",
      "49/49 [==============================] - 1s 18ms/step - loss: 0.0605 - accuracy: 0.9931 - val_loss: 0.8240 - val_accuracy: 0.8697\n",
      "Epoch 13/30\n",
      "49/49 [==============================] - 1s 19ms/step - loss: 2.6238e-04 - accuracy: 1.0000 - val_loss: 0.9082 - val_accuracy: 0.8702\n",
      "Epoch 14/30\n",
      "49/49 [==============================] - 1s 18ms/step - loss: 1.1870e-04 - accuracy: 1.0000 - val_loss: 1.0454 - val_accuracy: 0.8690\n",
      "Epoch 15/30\n",
      "49/49 [==============================] - 1s 19ms/step - loss: 0.0492 - accuracy: 0.9932 - val_loss: 0.9967 - val_accuracy: 0.8648\n",
      "Epoch 16/30\n",
      "49/49 [==============================] - 1s 19ms/step - loss: 0.0107 - accuracy: 0.9980 - val_loss: 0.8716 - val_accuracy: 0.8676\n",
      "Epoch 17/30\n",
      "49/49 [==============================] - 1s 19ms/step - loss: 1.4287e-04 - accuracy: 1.0000 - val_loss: 1.0244 - val_accuracy: 0.8684\n",
      "Epoch 18/30\n",
      "49/49 [==============================] - 1s 19ms/step - loss: 3.2475e-05 - accuracy: 1.0000 - val_loss: 1.1936 - val_accuracy: 0.8684\n",
      "Epoch 19/30\n",
      "49/49 [==============================] - 1s 18ms/step - loss: 0.0514 - accuracy: 0.9947 - val_loss: 1.1279 - val_accuracy: 0.8687\n",
      "Epoch 20/30\n",
      "49/49 [==============================] - 1s 19ms/step - loss: 1.3113e-05 - accuracy: 1.0000 - val_loss: 1.1623 - val_accuracy: 0.8689\n",
      "Epoch 21/30\n",
      "49/49 [==============================] - 1s 18ms/step - loss: 7.5459e-06 - accuracy: 1.0000 - val_loss: 1.2236 - val_accuracy: 0.8690\n",
      "Epoch 22/30\n",
      "49/49 [==============================] - 1s 19ms/step - loss: 3.9142e-06 - accuracy: 1.0000 - val_loss: 1.3284 - val_accuracy: 0.8690\n",
      "Epoch 23/30\n",
      "49/49 [==============================] - 1s 18ms/step - loss: 0.0376 - accuracy: 0.9954 - val_loss: 1.3398 - val_accuracy: 0.8604\n",
      "Epoch 24/30\n",
      "49/49 [==============================] - 1s 18ms/step - loss: 0.0012 - accuracy: 0.9996 - val_loss: 2.0900 - val_accuracy: 0.8172\n",
      "Epoch 25/30\n",
      "49/49 [==============================] - 1s 18ms/step - loss: 0.0032 - accuracy: 0.9993 - val_loss: 1.2256 - val_accuracy: 0.8661\n",
      "Epoch 26/30\n",
      "49/49 [==============================] - 1s 18ms/step - loss: 8.5272e-06 - accuracy: 1.0000 - val_loss: 1.3135 - val_accuracy: 0.8684\n",
      "Epoch 27/30\n",
      "49/49 [==============================] - 1s 18ms/step - loss: 1.6790e-06 - accuracy: 1.0000 - val_loss: 1.4373 - val_accuracy: 0.8678\n",
      "Epoch 28/30\n",
      "49/49 [==============================] - 1s 19ms/step - loss: 4.3274e-07 - accuracy: 1.0000 - val_loss: 1.5994 - val_accuracy: 0.8686\n",
      "Epoch 29/30\n",
      "49/49 [==============================] - 1s 19ms/step - loss: 1.2444e-07 - accuracy: 1.0000 - val_loss: 1.7076 - val_accuracy: 0.8680\n",
      "Epoch 30/30\n",
      "49/49 [==============================] - 1s 19ms/step - loss: 4.0223e-08 - accuracy: 1.0000 - val_loss: 1.8004 - val_accuracy: 0.8679\n"
     ]
    }
   ],
   "source": [
    "history = model.fit(x_train, y_train,\n",
    "                    epochs=30,\n",
    "                    batch_size=512,\n",
    "                    validation_data=(x_test, y_test))"
   ]
  },
  {
   "cell_type": "markdown",
   "id": "3ca407bc",
   "metadata": {},
   "source": [
    "모델의 지표 결과로 loss, val_loss, accuracy, val_accuracy를 차트로 살펴봅니다."
   ]
  },
  {
   "cell_type": "code",
   "execution_count": 5,
   "id": "4135c2a5",
   "metadata": {},
   "outputs": [
    {
     "data": {
      "image/png": "[encoded data removed]",
      "text/plain": [
       "<Figure size 864x360 with 2 Axes>"
      ]
     },
     "metadata": {
      "needs_background": "light"
     },
     "output_type": "display_data"
    }
   ],
   "source": [
    "import matplotlib.pyplot as plt\n",
    "\n",
    "history_dict = history.history\n",
    "\n",
    "loss = history_dict['loss']\n",
    "val_loss = history_dict['val_loss']\n",
    "epochs = range(1, len(loss) + 1)\n",
    "\n",
    "fig = plt.figure(figsize=(12, 5))\n",
    "\n",
    "ax1 = fig.add_subplot(1, 2, 1)\n",
    "ax1.plot(epochs, loss, 'b--', label='train_loss')\n",
    "ax1.plot(epochs, val_loss, 'r--', label='val_loss')\n",
    "ax1.set_title('Train and Validation Loss')\n",
    "ax1.set_xlabel('Epochs')\n",
    "ax1.set_ylabel('Loss')\n",
    "ax1.grid()\n",
    "ax1.legend()\n",
    "\n",
    "accuracy = history_dict['accuracy']\n",
    "val_accuracy = history_dict['val_accuracy']\n",
    "\n",
    "ax2 = fig.add_subplot(1, 2, 2)\n",
    "ax2.plot(epochs, accuracy, 'b--', label='train_accuracy')\n",
    "ax2.plot(epochs, val_accuracy, 'r--', label='val_accuracy')\n",
    "ax2.set_title('Train and Validation Accuracy')\n",
    "ax2.set_xlabel('Epochs')\n",
    "ax2.set_ylabel('Accuracy')\n",
    "ax2.grid()\n",
    "ax2.legend()\n",
    "\n",
    "plt.show()"
   ]
  },
  {
   "cell_type": "markdown",
   "id": "81b0aa32",
   "metadata": {},
   "source": [
    "결과를 보면, 딥러닝 모델이 과대적합된 상태인 것을 알 수 있습니다. 따라서 과대적합을 해결하기 위한 방법을 찾아야합니다.\n",
    "\n",
    "### 모델 크기 증가\n",
    "먼저 모델의 크기를 증가시키면 어떻게 될지 살펴 보겠습니다. Dense 레이어의 유닛수를 128에서 2048로 크게 증가시켜서 모델의 전체 파라미터 수가 24,680,449개가 되었습니다."
   ]
  },
  {
   "cell_type": "code",
   "execution_count": 6,
   "id": "d363dda5",
   "metadata": {},
   "outputs": [
    {
     "name": "stdout",
     "output_type": "stream",
     "text": [
      "Model: \"sequential_1\"\n",
      "_________________________________________________________________\n",
      "Layer (type)                 Output Shape              Param #   \n",
      "=================================================================\n",
      "input3 (Dense)               (None, 2048)              20482048  \n",
      "_________________________________________________________________\n",
      "hidden3 (Dense)              (None, 2048)              4196352   \n",
      "_________________________________________________________________\n",
      "output3 (Dense)              (None, 1)                 2049      \n",
      "=================================================================\n",
      "Total params: 24,680,449\n",
      "Trainable params: 24,680,449\n",
      "Non-trainable params: 0\n",
      "_________________________________________________________________\n"
     ]
    }
   ],
   "source": [
    "b_model = models.Sequential()\n",
    "b_model.add(layers.Dense(2048, activation='relu', input_shape=(10000, ), name='input3'))\n",
    "b_model.add(layers.Dense(2048, activation='relu', name='hidden3'))\n",
    "b_model.add(layers.Dense(1, activation='sigmoid', name='output3'))\n",
    "b_model.compile(optimizer='rmsprop',\n",
    "                loss='binary_crossentropy',\n",
    "                metrics=['accuracy'])\n",
    "b_model.summary()"
   ]
  },
  {
   "cell_type": "code",
   "execution_count": 7,
   "id": "7076a4be",
   "metadata": {},
   "outputs": [
    {
     "name": "stdout",
     "output_type": "stream",
     "text": [
      "Epoch 1/30\n",
      "49/49 [==============================] - 5s 89ms/step - loss: 0.6903 - accuracy: 0.7830 - val_loss: 0.3605 - val_accuracy: 0.8420\n",
      "Epoch 2/30\n",
      "49/49 [==============================] - 2s 36ms/step - loss: 0.2194 - accuracy: 0.9123 - val_loss: 0.4134 - val_accuracy: 0.8381\n",
      "Epoch 3/30\n",
      "49/49 [==============================] - 2s 36ms/step - loss: 0.1075 - accuracy: 0.9619 - val_loss: 0.3511 - val_accuracy: 0.8861\n",
      "Epoch 4/30\n",
      "49/49 [==============================] - 2s 35ms/step - loss: 0.0918 - accuracy: 0.9827 - val_loss: 0.4799 - val_accuracy: 0.8853\n",
      "Epoch 5/30\n",
      "49/49 [==============================] - 2s 36ms/step - loss: 0.0062 - accuracy: 0.9981 - val_loss: 7.2584 - val_accuracy: 0.5634\n",
      "Epoch 6/30\n",
      "49/49 [==============================] - 2s 36ms/step - loss: 0.1502 - accuracy: 0.9859 - val_loss: 0.6302 - val_accuracy: 0.8838\n",
      "Epoch 7/30\n",
      "49/49 [==============================] - 2s 36ms/step - loss: 3.0082e-05 - accuracy: 1.0000 - val_loss: 0.7445 - val_accuracy: 0.8850\n",
      "Epoch 8/30\n",
      "49/49 [==============================] - 2s 36ms/step - loss: 0.2613 - accuracy: 0.9838 - val_loss: 0.6654 - val_accuracy: 0.8829\n",
      "Epoch 9/30\n",
      "49/49 [==============================] - 2s 36ms/step - loss: 3.9901e-04 - accuracy: 1.0000 - val_loss: 0.7374 - val_accuracy: 0.8841\n",
      "Epoch 10/30\n",
      "49/49 [==============================] - 2s 37ms/step - loss: 7.3621e-06 - accuracy: 1.0000 - val_loss: 0.7886 - val_accuracy: 0.8836\n",
      "Epoch 11/30\n",
      "49/49 [==============================] - 2s 37ms/step - loss: 1.6041e-06 - accuracy: 1.0000 - val_loss: 0.8705 - val_accuracy: 0.8830\n",
      "Epoch 12/30\n",
      "49/49 [==============================] - 2s 36ms/step - loss: 3.6871e-07 - accuracy: 1.0000 - val_loss: 0.9743 - val_accuracy: 0.8849\n",
      "Epoch 13/30\n",
      "49/49 [==============================] - 2s 36ms/step - loss: 7.4462e-08 - accuracy: 1.0000 - val_loss: 1.0820 - val_accuracy: 0.8850\n",
      "Epoch 14/30\n",
      "49/49 [==============================] - 2s 38ms/step - loss: 1.9569e-08 - accuracy: 1.0000 - val_loss: 1.1467 - val_accuracy: 0.8854\n",
      "Epoch 15/30\n",
      "49/49 [==============================] - 2s 38ms/step - loss: 9.1127e-09 - accuracy: 1.0000 - val_loss: 1.1834 - val_accuracy: 0.8854\n",
      "Epoch 16/30\n",
      "49/49 [==============================] - 2s 36ms/step - loss: 5.9069e-09 - accuracy: 1.0000 - val_loss: 1.2071 - val_accuracy: 0.8852\n",
      "Epoch 17/30\n",
      "49/49 [==============================] - 2s 37ms/step - loss: 4.3861e-09 - accuracy: 1.0000 - val_loss: 1.2242 - val_accuracy: 0.8852\n",
      "Epoch 18/30\n",
      "49/49 [==============================] - 2s 37ms/step - loss: 3.5016e-09 - accuracy: 1.0000 - val_loss: 1.2382 - val_accuracy: 0.8850\n",
      "Epoch 19/30\n",
      "49/49 [==============================] - 2s 36ms/step - loss: 2.9312e-09 - accuracy: 1.0000 - val_loss: 1.2495 - val_accuracy: 0.8850\n",
      "Epoch 20/30\n",
      "49/49 [==============================] - 2s 36ms/step - loss: 2.5331e-09 - accuracy: 1.0000 - val_loss: 1.2586 - val_accuracy: 0.8849\n",
      "Epoch 21/30\n",
      "49/49 [==============================] - 2s 36ms/step - loss: 2.2368e-09 - accuracy: 1.0000 - val_loss: 1.2668 - val_accuracy: 0.8848\n",
      "Epoch 22/30\n",
      "49/49 [==============================] - 2s 36ms/step - loss: 2.0063e-09 - accuracy: 1.0000 - val_loss: 1.2739 - val_accuracy: 0.8850\n",
      "Epoch 23/30\n",
      "49/49 [==============================] - 2s 36ms/step - loss: 1.8196e-09 - accuracy: 1.0000 - val_loss: 1.2803 - val_accuracy: 0.8849\n",
      "Epoch 24/30\n",
      "49/49 [==============================] - 2s 36ms/step - loss: 1.6835e-09 - accuracy: 1.0000 - val_loss: 1.2858 - val_accuracy: 0.8848\n",
      "Epoch 25/30\n",
      "49/49 [==============================] - 2s 36ms/step - loss: 1.5620e-09 - accuracy: 1.0000 - val_loss: 1.2909 - val_accuracy: 0.8848\n",
      "Epoch 26/30\n",
      "49/49 [==============================] - 2s 36ms/step - loss: 1.4621e-09 - accuracy: 1.0000 - val_loss: 1.2956 - val_accuracy: 0.8848\n",
      "Epoch 27/30\n",
      "49/49 [==============================] - 2s 36ms/step - loss: 1.3661e-09 - accuracy: 1.0000 - val_loss: 1.3002 - val_accuracy: 0.8848\n",
      "Epoch 28/30\n",
      "49/49 [==============================] - 2s 38ms/step - loss: 1.2981e-09 - accuracy: 1.0000 - val_loss: 1.3041 - val_accuracy: 0.8847\n",
      "Epoch 29/30\n",
      "49/49 [==============================] - 2s 37ms/step - loss: 1.2267e-09 - accuracy: 1.0000 - val_loss: 1.3080 - val_accuracy: 0.8846\n",
      "Epoch 30/30\n",
      "49/49 [==============================] - 2s 37ms/step - loss: 1.1790e-09 - accuracy: 1.0000 - val_loss: 1.3114 - val_accuracy: 0.8845\n"
     ]
    }
   ],
   "source": [
    "b_model_history = b_model.fit(x_train, y_train,\n",
    "                              epochs=30,\n",
    "                              batch_size=512, \n",
    "                              validation_data=(x_test, y_test))"
   ]
  },
  {
   "cell_type": "code",
   "execution_count": 2,
   "id": "9540c463",
   "metadata": {},
   "outputs": [
    {
     "ename": "NameError",
     "evalue": "name 'b_model_history' is not defined",
     "output_type": "error",
     "traceback": [
      "\u001b[0;31m---------------------------------------------------------------------------\u001b[0m",
      "\u001b[0;31mNameError\u001b[0m                                 Traceback (most recent call last)",
      "\u001b[0;32m/tmp/ipykernel_1072/2812510912.py\u001b[0m in \u001b[0;36m<module>\u001b[0;34m\u001b[0m\n\u001b[0;32m----> 1\u001b[0;31m \u001b[0mb_history_dict\u001b[0m \u001b[0;34m=\u001b[0m \u001b[0mb_model_history\u001b[0m\u001b[0;34m.\u001b[0m\u001b[0mhistory\u001b[0m\u001b[0;34m\u001b[0m\u001b[0;34m\u001b[0m\u001b[0m\n\u001b[0m\u001b[1;32m      2\u001b[0m \u001b[0;34m\u001b[0m\u001b[0m\n\u001b[1;32m      3\u001b[0m \u001b[0mb_loss\u001b[0m \u001b[0;34m=\u001b[0m \u001b[0mb_history_dict\u001b[0m\u001b[0;34m[\u001b[0m\u001b[0;34m'loss'\u001b[0m\u001b[0;34m]\u001b[0m\u001b[0;34m\u001b[0m\u001b[0;34m\u001b[0m\u001b[0m\n\u001b[1;32m      4\u001b[0m \u001b[0mb_val_loss\u001b[0m \u001b[0;34m=\u001b[0m \u001b[0mb_history_dict\u001b[0m\u001b[0;34m[\u001b[0m\u001b[0;34m'val_loss'\u001b[0m\u001b[0;34m]\u001b[0m\u001b[0;34m\u001b[0m\u001b[0;34m\u001b[0m\u001b[0m\n\u001b[1;32m      5\u001b[0m \u001b[0mepochs\u001b[0m \u001b[0;34m=\u001b[0m \u001b[0mrange\u001b[0m\u001b[0;34m(\u001b[0m\u001b[0;36m1\u001b[0m\u001b[0;34m,\u001b[0m \u001b[0mlen\u001b[0m\u001b[0;34m(\u001b[0m\u001b[0mb_loss\u001b[0m\u001b[0;34m)\u001b[0m \u001b[0;34m+\u001b[0m \u001b[0;36m1\u001b[0m\u001b[0;34m)\u001b[0m\u001b[0;34m\u001b[0m\u001b[0;34m\u001b[0m\u001b[0m\n",
      "\u001b[0;31mNameError\u001b[0m: name 'b_model_history' is not defined"
     ]
    }
   ],
   "source": [
    "b_history_dict = b_model_history.history\n",
    "\n",
    "b_loss = b_history_dict['loss']\n",
    "b_val_loss = b_history_dict['val_loss']\n",
    "epochs = range(1, len(b_loss) + 1)\n",
    "\n",
    "fig = plt.figure(figsize=(12, 5))\n",
    "\n",
    "ax1 = fig.add_subplot(1, 2, 1)\n",
    "ax1.plot(epochs, b_loss, 'b-', label='train_loss(large)')\n",
    "ax1.plot(epochs, b_val_loss, 'r-', label='val_loss(large)')\n",
    "ax1.plot(epochs, loss, 'b--', label='train_loss')\n",
    "ax1.plot(epochs, val_loss, 'r--', label='val_loss')\n",
    "ax1.set_title('Train and Validation Loss')\n",
    "ax1.set_xlabel('Epochs')\n",
    "ax1.set_ylabel('Loss')\n",
    "ax1.grid()\n",
    "ax1.legend()\n",
    "\n",
    "b_accuracy = b_history_dict['accuracy']\n",
    "b_val_accuracy = b_history_dict['val_accuracy']\n",
    "\n",
    "ax2 = fig.add_subplot(1, 2, 2)\n",
    "ax2.plot(epochs, b_accuracy, 'b-', label='train_accuracy(large)')\n",
    "ax2.plot(epochs, b_val_accuracy, 'r-', label='val_accuracy(large)')\n",
    "ax2.plot(epochs, accuracy, 'b--', label='train_accuracy')\n",
    "ax2.plot(epochs, val_accuracy, 'r--', label='val_accuracy')\n",
    "ax2.set_title('Train and Validation Accuracy')\n",
    "ax2.set_xlabel('Epochs')\n",
    "ax2.set_ylabel('Accuracy')\n",
    "ax2.grid()\n",
    "ax2.legend()\n",
    "\n",
    "plt.show()"
   ]
  },
  {
   "cell_type": "markdown",
   "id": "b6a61d81",
   "metadata": {},
   "source": [
    "결과를 보면, 모델의 크기가 클수록, 즉 파라미터 수가 많은 신경망일수록 빠르게 훈련 데이터 모델링이 가능하고, 학습 손실이 낮아지는 것을 알 수 있습니다. 그러나 모델이 과대적합에는 더욱 민감해지는 것을 학습-검증 데이터 손실을 통해 확인이 가능합니다.\n",
    "\n",
    "### 모델 크기 감소\n",
    "이제 모델에서 사용한 Dense 레이어의 유닛수를 128대신 16으로 줄여서 사용합니다. 즉, 모델의 크기를 줄여서 전체 파라미터의 수가 160,305개로 줄어들게 됩니다."
   ]
  },
  {
   "cell_type": "code",
   "execution_count": null,
   "id": "ee5bcf27",
   "metadata": {},
   "outputs": [],
   "source": [
    "s_model = models.Sequential()\n",
    "s_model.add(layers.Dense(16, activation='relu', input_shape=(10000, ), name='input2'))\n",
    "s_model.add(layers.Dense(16, activation='relu', name='hidden2'))\n",
    "s_model.add(layers.Dense(1, activation='sigmoid', name='output2'))\n",
    "s_model.compile(optimizer='rmsprop',\n",
    "                loss='binary_crossentropy',\n",
    "                metrics=['accuracy'])\n",
    "s_model.summary()"
   ]
  },
  {
   "cell_type": "code",
   "execution_count": null,
   "id": "3a3ed497",
   "metadata": {},
   "outputs": [],
   "source": [
    "s_model_history = s_model.fit(x_train, y_train,\n",
    "                              epochs=30,\n",
    "                              batch_size=512, \n",
    "                              validation_data=(x_test, y_test))"
   ]
  },
  {
   "cell_type": "code",
   "execution_count": null,
   "id": "abeba6c4",
   "metadata": {},
   "outputs": [],
   "source": [
    "s_history_dict = s_model_history.history\n",
    "\n",
    "s_loss = s_history_dict['loss']\n",
    "s_val_loss = s_history_dict['val_loss']\n",
    "epochs = range(1, len(s_loss) + 1)\n",
    "\n",
    "fig = plt.figure(figsize=(12, 5))\n",
    "\n",
    "ax1 = fig.add_subplot(1, 2, 1)\n",
    "ax1.plot(epochs, b_loss, 'b-', label='train_loss(large)')\n",
    "ax1.plot(epochs, b_val_loss, 'r-', label='val_loss(large)')\n",
    "ax1.plot(epochs, loss, 'b--', label='train_loss')\n",
    "ax1.plot(epochs, val_loss, 'r--', label='val_loss')\n",
    "ax1.plot(epochs, s_loss, 'b:', label='train_loss(small)')\n",
    "ax1.plot(epochs, s_val_loss, 'r:', label='val_loss(small)')\n",
    "ax1.set_title('Train and Validation Loss')\n",
    "ax1.set_xlabel('Epochs')\n",
    "ax1.set_ylabel('Loss')\n",
    "ax1.grid()\n",
    "ax1.legend()\n",
    "\n",
    "s_accuracy = s_history_dict['accuracy']\n",
    "s_val_accuracy = s_history_dict['val_accuracy']\n",
    "\n",
    "ax2 = fig.add_subplot(1, 2, 2)\n",
    "ax2.plot(epochs, b_accuracy, 'b-', label='train_accuracy(large)')\n",
    "ax2.plot(epochs, b_val_accuracy, 'r-', label='val_accuracy(large)')\n",
    "ax2.plot(epochs, accuracy, 'b--', label='train_accuracy')\n",
    "ax2.plot(epochs, val_accuracy, 'r--', label='val_accuracy')\n",
    "ax2.plot(epochs, s_accuracy, 'b:', label='train_accuracy(small)')\n",
    "ax2.plot(epochs, s_val_accuracy, 'r:', label='val_accuracy(small)')\n",
    "ax2.set_title('Train and Validation Accuracy')\n",
    "ax2.set_xlabel('Epochs')\n",
    "ax2.set_ylabel('Accuracy')\n",
    "ax2.grid()\n",
    "ax2.legend()\n",
    "\n",
    "plt.show()"
   ]
  },
  {
   "cell_type": "markdown",
   "id": "01416433",
   "metadata": {},
   "source": [
    "모델의 크기를 줄였더니 과대적합 문제에 조금 덜 민감한 것을 알 수 있습니다. 즉, 모델의 최적화를 위해서는 파라미터 수를 적절하게 조절 해야 된다는 것을 알 수 있습니다.\n",
    "\n",
    "그렇다면 어느정도 파라미터가 적절할까요? 아래 코드를 이용해 여러분이 조절해보시기 바랍니다.\n",
    "\n",
    "단, 그래프는 다른 그래프의 데이터와 구분을 위해 파랑-빨강이 아닌 초록색으로 변경했습니다. 초록색 실선이 train 데이터이며 초록색 점선이 validation 데이터입니다."
   ]
  },
  {
   "cell_type": "code",
   "execution_count": null,
   "id": "8668252e",
   "metadata": {},
   "outputs": [],
   "source": [
    "# [play ground]\n",
    "# 원하는 분은 Dense층을 늘리거나 줄이는 등 모델의 구조 역시 변경해보시기 바랍니다.\n",
    "\n",
    "your_model = models.Sequential()\n",
    "your_model.add(layers.Dense(64, activation='relu', input_shape=(10000,), name='input2'))\n",
    "your_model.add(layers.Dense(32, activation='relu', name='hidden2'))  # 두 번째 Dense 층\n",
    "your_model.add(layers.Dense(1, activation='sigmoid', name='output2'))\n",
    "your_model.compile(optimizer='rmsprop',\n",
    "                   loss='binary_crossentropy',\n",
    "                   metrics=['accuracy'])\n",
    "your_model.summary()"
   ]
  },
  {
   "cell_type": "code",
   "execution_count": null,
   "id": "257f0c15",
   "metadata": {},
   "outputs": [],
   "source": [
    "your_model_history = your_model.fit(x_train, y_train, epochs=30, batch_size=512,  validation_data=(x_test, y_test))"
   ]
  },
  {
   "cell_type": "code",
   "execution_count": null,
   "id": "11271b2c",
   "metadata": {},
   "outputs": [],
   "source": [
    "your_history_dict = your_model_history.history\n",
    "\n",
    "your_loss = your_history_dict['loss']\n",
    "your_val_loss = your_history_dict['val_loss']\n",
    "epochs = range(1, len(your_loss) + 1)\n",
    "\n",
    "fig = plt.figure(figsize=(12, 5))\n",
    "\n",
    "ax1 = fig.add_subplot(1, 2, 1)\n",
    "ax1.plot(epochs, b_loss, 'b-', label='train_loss(large)')\n",
    "ax1.plot(epochs, b_val_loss, 'r-', label='val_loss(large)')\n",
    "ax1.plot(epochs, loss, 'b--', label='train_loss')\n",
    "ax1.plot(epochs, val_loss, 'r--', label='val_loss')\n",
    "ax1.plot(epochs, your_loss, 'b:', label='train_loss(small)')\n",
    "ax1.plot(epochs, your_val_loss, 'r:', label='val_loss(small)')\n",
    "ax1.set_title('Train and Validation Loss')\n",
    "ax1.set_xlabel('Epochs')\n",
    "ax1.set_ylabel('Loss')\n",
    "ax1.grid()\n",
    "ax1.legend()\n",
    "\n",
    "your_accuracy = your_history_dict['accuracy']\n",
    "your_val_accuracy = your_history_dict['val_accuracy']\n",
    "\n",
    "ax2 = fig.add_subplot(1, 2, 2)\n",
    "ax2.plot(epochs, b_accuracy, 'b-', label='train_accuracy(large)')\n",
    "ax2.plot(epochs, b_val_accuracy, 'r-', label='val_accuracy(large)')\n",
    "ax2.plot(epochs, accuracy, 'b--', label='train_accuracy')\n",
    "ax2.plot(epochs, val_accuracy, 'r--', label='val_accuracy')\n",
    "ax2.plot(epochs, s_accuracy, 'b:', label='train_accuracy(small)')\n",
    "ax2.plot(epochs, s_val_accuracy, 'r:', label='val_accuracy(small)')\n",
    "ax2.plot(epochs, your_accuracy, 'g-', label='train_accuracy(your)')\n",
    "ax2.plot(epochs, your_val_accuracy, 'g--', label='val_accuracy(your)')\n",
    "ax2.set_title('Train and Validation Accuracy')\n",
    "ax2.set_xlabel('Epochs')\n",
    "ax2.set_ylabel('Accuracy')\n",
    "ax2.grid()\n",
    "ax2.legend()\n",
    "\n",
    "plt.show()"
   ]
  },
  {
   "cell_type": "markdown",
   "id": "907b584f",
   "metadata": {},
   "source": [
    "## 7-3. 규제(Regularization)\n",
    "모델의 과대적합을 방지하는 방법 중에 하나로 규제가 있습니다. 가중치의 파라미터 값이 커서 과대적합이 발생하는 경우가 많기 때문에 이를 방지하기 위해 큰 가중치 값은 큰 규제를 가하는 방법이 규제화입니다. 규제를 통해 가중치의 절댓값을 가능한 작게 만들어서 가중치의 모든 원소를 0에 가깝게 하여 모든 특성이 출력에 주는 영향을 최소한으로 만드는 것을 의미합니다. 즉, 기울기를 작게 만드는 과정이 되겠습니다.\n",
    "\n",
    "규제를 통해서 가중치의 분포가 더 균일하게 되고, 복잡한 네트워크일수록 네트워크의 복잡도에 제한을 두어 가중치가 작은 값을 가지도록 합니다. 규제가 모델이 과대적합 되지 않도록 강제로 제한하는 역할을 하므로 적절한 규제값을 찾는 것이 중요합니다.\n",
    "\n",
    "모델의 손실함수에서 큰 가중치에 비용을 추가하는 형태로 규제를 적용할 수 있으며 대표적인 방법으로 L1 규제와 L2 규제가 있습니다. L1 규제는 가중치의 절댓값에 비례하는 비용이 추가되고, L2 규제는 가중치 감쇠(weight decay)라고도 불리며, 가중치의 제곱에 비례하는 비용이 추가됩니다. 또한, L1과 L2를 둘다 합쳐서 사용하는 경우도 존재합니다.\n",
    "\n",
    "### L1 규제\n",
    "L1 규제는 가중치의 절댓값 합에 비례하는 비용을 손실 함수에 추가 하는 방법이며, 가중치의 절대값은 L1 노름(norm) 이라고 하며 다음과 같이 표현됩니다.\n"
   ]
  },
  {
   "cell_type": "code",
   "execution_count": null,
   "id": "a6cbddf6",
   "metadata": {},
   "outputs": [],
   "source": []
  }
 ],
 "metadata": {
  "kernelspec": {
   "display_name": "Python 3 (ipykernel)",
   "language": "python",
   "name": "python3"
  },
  "language_info": {
   "codemirror_mode": {
    "name": "ipython",
    "version": 3
   },
   "file_extension": ".py",
   "mimetype": "text/x-python",
   "name": "python",
   "nbconvert_exporter": "python",
   "pygments_lexer": "ipython3",
   "version": "3.9.7"
  }
 },
 "nbformat": 4,
 "nbformat_minor": 5
}
